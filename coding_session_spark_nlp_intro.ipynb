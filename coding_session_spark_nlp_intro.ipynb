{
  "nbformat": 4,
  "nbformat_minor": 0,
  "metadata": {
    "colab": {
      "name": "Untitled1.ipynb",
      "provenance": [],
      "collapsed_sections": [],
      "authorship_tag": "ABX9TyPOVvVgVkevqVYXl0/WIH2E",
      "include_colab_link": true
    },
    "kernelspec": {
      "name": "python3",
      "display_name": "Python 3"
    },
    "language_info": {
      "name": "python"
    }
  },
  "cells": [
    {
      "cell_type": "markdown",
      "metadata": {
        "id": "view-in-github",
        "colab_type": "text"
      },
      "source": [
        "<a href=\"https://colab.research.google.com/github/stevegabriel1/spark_nlp/blob/main/coding_session_spark_nlp_intro.ipynb\" target=\"_parent\"><img src=\"https://colab.research.google.com/assets/colab-badge.svg\" alt=\"Open In Colab\"/></a>"
      ]
    },
    {
      "cell_type": "markdown",
      "metadata": {
        "id": "5y_9tcZC25ps"
      },
      "source": [
        "**This is following directly the ODSC East 2021 session 'Introduction to Spark NLP' from John Snow Labs' Veysel Kocaman.**"
      ]
    },
    {
      "cell_type": "code",
      "metadata": {
        "colab": {
          "base_uri": "https://localhost:8080/"
        },
        "id": "Uyjp2LoZ2COs",
        "outputId": "e2b68232-0c61-40fb-9e2c-9ff09e667cb9"
      },
      "source": [
        "!wget https://raw.githubusercontent.com/JohnSnowLabs/spark-nlp/master/scripts/colab_setup.sh\n",
        "!bash colab_setup.sh\n",
        "\n",
        "# Install sparknlp-display\n",
        "! pip install spark-nlp-display"
      ],
      "execution_count": 1,
      "outputs": [
        {
          "output_type": "stream",
          "text": [
            "--2021-04-22 04:31:22--  https://raw.githubusercontent.com/JohnSnowLabs/spark-nlp/master/scripts/colab_setup.sh\n",
            "Resolving raw.githubusercontent.com (raw.githubusercontent.com)... 185.199.108.133, 185.199.109.133, 185.199.110.133, ...\n",
            "Connecting to raw.githubusercontent.com (raw.githubusercontent.com)|185.199.108.133|:443... connected.\n",
            "HTTP request sent, awaiting response... 200 OK\n",
            "Length: 1594 (1.6K) [text/plain]\n",
            "Saving to: ‘colab_setup.sh’\n",
            "\n",
            "\rcolab_setup.sh        0%[                    ]       0  --.-KB/s               \rcolab_setup.sh      100%[===================>]   1.56K  --.-KB/s    in 0s      \n",
            "\n",
            "2021-04-22 04:31:22 (23.9 MB/s) - ‘colab_setup.sh’ saved [1594/1594]\n",
            "\n",
            "setup Colab for PySpark 3.0.2 and Spark NLP 3.0.2\n",
            "\u001b[K     |████████████████████████████████| 204.8MB 74kB/s \n",
            "\u001b[K     |████████████████████████████████| 153kB 23.8MB/s \n",
            "\u001b[K     |████████████████████████████████| 204kB 24.5MB/s \n",
            "\u001b[?25h  Building wheel for pyspark (setup.py) ... \u001b[?25l\u001b[?25hdone\n",
            "Collecting spark-nlp-display\n",
            "\u001b[?25l  Downloading https://files.pythonhosted.org/packages/0a/d7/bda1c504e36f7a544c40e0a3de108bfe7907e77ab7eb7f188dd3915bcad4/spark_nlp_display-1.6-py3-none-any.whl (94kB)\n",
            "\u001b[K     |████████████████████████████████| 102kB 7.4MB/s \n",
            "\u001b[?25hRequirement already satisfied: ipython in /usr/local/lib/python3.7/dist-packages (from spark-nlp-display) (5.5.0)\n",
            "Requirement already satisfied: pandas in /usr/local/lib/python3.7/dist-packages (from spark-nlp-display) (1.1.5)\n",
            "Collecting svgwrite==1.4\n",
            "\u001b[?25l  Downloading https://files.pythonhosted.org/packages/1c/85/1dc25b36c3ac4f3fe285d33065fc0f2ea7bdfb9209d6369e01a3e8ef6252/svgwrite-1.4-py3-none-any.whl (66kB)\n",
            "\u001b[K     |████████████████████████████████| 71kB 5.9MB/s \n",
            "\u001b[?25hRequirement already satisfied: numpy in /usr/local/lib/python3.7/dist-packages (from spark-nlp-display) (1.19.5)\n",
            "Requirement already satisfied: spark-nlp in /usr/local/lib/python3.7/dist-packages (from spark-nlp-display) (3.0.2)\n",
            "Requirement already satisfied: setuptools>=18.5 in /usr/local/lib/python3.7/dist-packages (from ipython->spark-nlp-display) (54.2.0)\n",
            "Requirement already satisfied: decorator in /usr/local/lib/python3.7/dist-packages (from ipython->spark-nlp-display) (4.4.2)\n",
            "Requirement already satisfied: simplegeneric>0.8 in /usr/local/lib/python3.7/dist-packages (from ipython->spark-nlp-display) (0.8.1)\n",
            "Requirement already satisfied: prompt-toolkit<2.0.0,>=1.0.4 in /usr/local/lib/python3.7/dist-packages (from ipython->spark-nlp-display) (1.0.18)\n",
            "Requirement already satisfied: traitlets>=4.2 in /usr/local/lib/python3.7/dist-packages (from ipython->spark-nlp-display) (5.0.5)\n",
            "Requirement already satisfied: pickleshare in /usr/local/lib/python3.7/dist-packages (from ipython->spark-nlp-display) (0.7.5)\n",
            "Requirement already satisfied: pexpect; sys_platform != \"win32\" in /usr/local/lib/python3.7/dist-packages (from ipython->spark-nlp-display) (4.8.0)\n",
            "Requirement already satisfied: pygments in /usr/local/lib/python3.7/dist-packages (from ipython->spark-nlp-display) (2.6.1)\n",
            "Requirement already satisfied: pytz>=2017.2 in /usr/local/lib/python3.7/dist-packages (from pandas->spark-nlp-display) (2018.9)\n",
            "Requirement already satisfied: python-dateutil>=2.7.3 in /usr/local/lib/python3.7/dist-packages (from pandas->spark-nlp-display) (2.8.1)\n",
            "Requirement already satisfied: wcwidth in /usr/local/lib/python3.7/dist-packages (from prompt-toolkit<2.0.0,>=1.0.4->ipython->spark-nlp-display) (0.2.5)\n",
            "Requirement already satisfied: six>=1.9.0 in /usr/local/lib/python3.7/dist-packages (from prompt-toolkit<2.0.0,>=1.0.4->ipython->spark-nlp-display) (1.15.0)\n",
            "Requirement already satisfied: ipython-genutils in /usr/local/lib/python3.7/dist-packages (from traitlets>=4.2->ipython->spark-nlp-display) (0.2.0)\n",
            "Requirement already satisfied: ptyprocess>=0.5 in /usr/local/lib/python3.7/dist-packages (from pexpect; sys_platform != \"win32\"->ipython->spark-nlp-display) (0.7.0)\n",
            "Installing collected packages: svgwrite, spark-nlp-display\n",
            "Successfully installed spark-nlp-display-1.6 svgwrite-1.4\n"
          ],
          "name": "stdout"
        }
      ]
    },
    {
      "cell_type": "code",
      "metadata": {
        "colab": {
          "base_uri": "https://localhost:8080/"
        },
        "id": "HR1luwHn21ne",
        "outputId": "972e163b-82bd-4e87-deaf-f28aeb3e7e66"
      },
      "source": [
        "import sparknlp\n",
        "from pyspark.ml import Pipeline\n",
        "from sparknlp.base import *\n",
        "import pyspark.sql.functions as F\n",
        "from sparknlp.annotator import *\n",
        "\n",
        "spark = sparknlp.start()\n",
        "\n",
        "print(\"Spark NLP version\", sparknlp.version())\n",
        "print(\"Apache Spark version:\", spark.version)"
      ],
      "execution_count": 2,
      "outputs": [
        {
          "output_type": "stream",
          "text": [
            "Spark NLP version 3.0.2\n",
            "Apache Spark version: 3.0.2\n"
          ],
          "name": "stdout"
        }
      ]
    },
    {
      "cell_type": "markdown",
      "metadata": {
        "id": "hm4C_h293m_G"
      },
      "source": [
        "## Using Pretrained Pipelines\n",
        "\n",
        "for a more detailed notebook, see https://github.com/JohnSnowLabs/spark-nlp-workshop/blob/master/tutorials/Certification_Trainings/Public/1.SparkNLP_Basics.ipynb"
      ]
    },
    {
      "cell_type": "code",
      "metadata": {
        "id": "-NLSGcrZ3t4-"
      },
      "source": [
        "from sparknlp.pretrained import PretrainedPipeline"
      ],
      "execution_count": 3,
      "outputs": []
    },
    {
      "cell_type": "code",
      "metadata": {
        "colab": {
          "base_uri": "https://localhost:8080/"
        },
        "id": "SykWk1l63yHI",
        "outputId": "c425652d-b339-4203-a005-8a8955927c63"
      },
      "source": [
        "pipeline_dl = PretrainedPipeline('explain_document_dl', lang='en')"
      ],
      "execution_count": 4,
      "outputs": [
        {
          "output_type": "stream",
          "text": [
            "explain_document_dl download started this may take some time.\n",
            "Approx size to download 169.3 MB\n",
            "[OK!]\n"
          ],
          "name": "stdout"
        }
      ]
    },
    {
      "cell_type": "markdown",
      "metadata": {
        "id": "VMW1DybC7Ctj"
      },
      "source": [
        "**Stages**\n",
        "- DocumentAssembler\n",
        "- SentenceDetector\n",
        "- Tokenizer\n",
        "- NER (NER with GloVe 100D embeddings, CoNLL2003 dataset)\n",
        "- Lemmatizer\n",
        "- Stemmer\n",
        "- Part of Speech\n",
        "- SpellChecker (Norvig)\n"
      ]
    },
    {
      "cell_type": "code",
      "metadata": {
        "id": "wCfwK8VG7E2u"
      },
      "source": [
        "testDoc = '''\n",
        "Blue and green should be seen.\n",
        "It seems that Coca Cola Amitil will be bought out very soon.\n",
        "Do you prefer sparkling or regular minerall water?\n",
        "Their vehicle was quick off the mark compared to most other cars.\n",
        "'''\n",
        "\n",
        "result = pipeline_dl.annotate(testDoc)\n"
      ],
      "execution_count": 15,
      "outputs": []
    },
    {
      "cell_type": "code",
      "metadata": {
        "colab": {
          "base_uri": "https://localhost:8080/"
        },
        "id": "TO4X2LfXfSK4",
        "outputId": "246cd58f-3d0d-466e-f2c6-aad7e92171f3"
      },
      "source": [
        "result.keys()"
      ],
      "execution_count": 16,
      "outputs": [
        {
          "output_type": "execute_result",
          "data": {
            "text/plain": [
              "dict_keys(['entities', 'stem', 'checked', 'lemma', 'document', 'pos', 'token', 'ner', 'embeddings', 'sentence'])"
            ]
          },
          "metadata": {
            "tags": []
          },
          "execution_count": 16
        }
      ]
    },
    {
      "cell_type": "code",
      "metadata": {
        "colab": {
          "base_uri": "https://localhost:8080/"
        },
        "id": "Yr0VlLdvfdAa",
        "outputId": "b9aa8e82-571a-47df-e2e7-9e135bce8145"
      },
      "source": [
        "result['entities']"
      ],
      "execution_count": 17,
      "outputs": [
        {
          "output_type": "execute_result",
          "data": {
            "text/plain": [
              "['Blue', 'Coca Cola Amitil']"
            ]
          },
          "metadata": {
            "tags": []
          },
          "execution_count": 17
        }
      ]
    },
    {
      "cell_type": "code",
      "metadata": {
        "colab": {
          "base_uri": "https://localhost:8080/",
          "height": 1000
        },
        "id": "TXjjFYrHf-YP",
        "outputId": "c6d18ed1-9f42-4250-df6c-225296113266"
      },
      "source": [
        "import pandas as pd\n",
        "\n",
        "df = pd.DataFrame({'token':result['token'], 'ner_label':result['ner'],\n",
        "                      'spell_corrected':result['checked'], 'POS':result['pos'],\n",
        "                      'lemmas':result['lemma'], 'stems':result['stem']})\n",
        "\n",
        "df"
      ],
      "execution_count": 18,
      "outputs": [
        {
          "output_type": "execute_result",
          "data": {
            "text/html": [
              "<div>\n",
              "<style scoped>\n",
              "    .dataframe tbody tr th:only-of-type {\n",
              "        vertical-align: middle;\n",
              "    }\n",
              "\n",
              "    .dataframe tbody tr th {\n",
              "        vertical-align: top;\n",
              "    }\n",
              "\n",
              "    .dataframe thead th {\n",
              "        text-align: right;\n",
              "    }\n",
              "</style>\n",
              "<table border=\"1\" class=\"dataframe\">\n",
              "  <thead>\n",
              "    <tr style=\"text-align: right;\">\n",
              "      <th></th>\n",
              "      <th>token</th>\n",
              "      <th>ner_label</th>\n",
              "      <th>spell_corrected</th>\n",
              "      <th>POS</th>\n",
              "      <th>lemmas</th>\n",
              "      <th>stems</th>\n",
              "    </tr>\n",
              "  </thead>\n",
              "  <tbody>\n",
              "    <tr>\n",
              "      <th>0</th>\n",
              "      <td>Blue</td>\n",
              "      <td>B-ORG</td>\n",
              "      <td>Blue</td>\n",
              "      <td>NNP</td>\n",
              "      <td>Blue</td>\n",
              "      <td>blue</td>\n",
              "    </tr>\n",
              "    <tr>\n",
              "      <th>1</th>\n",
              "      <td>and</td>\n",
              "      <td>O</td>\n",
              "      <td>and</td>\n",
              "      <td>CC</td>\n",
              "      <td>and</td>\n",
              "      <td>and</td>\n",
              "    </tr>\n",
              "    <tr>\n",
              "      <th>2</th>\n",
              "      <td>green</td>\n",
              "      <td>O</td>\n",
              "      <td>green</td>\n",
              "      <td>NN</td>\n",
              "      <td>green</td>\n",
              "      <td>green</td>\n",
              "    </tr>\n",
              "    <tr>\n",
              "      <th>3</th>\n",
              "      <td>should</td>\n",
              "      <td>O</td>\n",
              "      <td>should</td>\n",
              "      <td>MD</td>\n",
              "      <td>should</td>\n",
              "      <td>should</td>\n",
              "    </tr>\n",
              "    <tr>\n",
              "      <th>4</th>\n",
              "      <td>be</td>\n",
              "      <td>O</td>\n",
              "      <td>be</td>\n",
              "      <td>VB</td>\n",
              "      <td>be</td>\n",
              "      <td>be</td>\n",
              "    </tr>\n",
              "    <tr>\n",
              "      <th>5</th>\n",
              "      <td>seen</td>\n",
              "      <td>O</td>\n",
              "      <td>seen</td>\n",
              "      <td>VBN</td>\n",
              "      <td>see</td>\n",
              "      <td>seen</td>\n",
              "    </tr>\n",
              "    <tr>\n",
              "      <th>6</th>\n",
              "      <td>.</td>\n",
              "      <td>O</td>\n",
              "      <td>.</td>\n",
              "      <td>.</td>\n",
              "      <td>.</td>\n",
              "      <td>.</td>\n",
              "    </tr>\n",
              "    <tr>\n",
              "      <th>7</th>\n",
              "      <td>It</td>\n",
              "      <td>O</td>\n",
              "      <td>It</td>\n",
              "      <td>PRP</td>\n",
              "      <td>It</td>\n",
              "      <td>it</td>\n",
              "    </tr>\n",
              "    <tr>\n",
              "      <th>8</th>\n",
              "      <td>seems</td>\n",
              "      <td>O</td>\n",
              "      <td>seems</td>\n",
              "      <td>VBZ</td>\n",
              "      <td>seem</td>\n",
              "      <td>seem</td>\n",
              "    </tr>\n",
              "    <tr>\n",
              "      <th>9</th>\n",
              "      <td>that</td>\n",
              "      <td>O</td>\n",
              "      <td>that</td>\n",
              "      <td>IN</td>\n",
              "      <td>that</td>\n",
              "      <td>that</td>\n",
              "    </tr>\n",
              "    <tr>\n",
              "      <th>10</th>\n",
              "      <td>Coca</td>\n",
              "      <td>B-ORG</td>\n",
              "      <td>Cece</td>\n",
              "      <td>NNP</td>\n",
              "      <td>Cece</td>\n",
              "      <td>cece</td>\n",
              "    </tr>\n",
              "    <tr>\n",
              "      <th>11</th>\n",
              "      <td>Cola</td>\n",
              "      <td>I-ORG</td>\n",
              "      <td>Cola</td>\n",
              "      <td>NNP</td>\n",
              "      <td>Cola</td>\n",
              "      <td>cola</td>\n",
              "    </tr>\n",
              "    <tr>\n",
              "      <th>12</th>\n",
              "      <td>Amitil</td>\n",
              "      <td>I-ORG</td>\n",
              "      <td>Amitie</td>\n",
              "      <td>NNP</td>\n",
              "      <td>Amitie</td>\n",
              "      <td>amiti</td>\n",
              "    </tr>\n",
              "    <tr>\n",
              "      <th>13</th>\n",
              "      <td>will</td>\n",
              "      <td>O</td>\n",
              "      <td>will</td>\n",
              "      <td>MD</td>\n",
              "      <td>will</td>\n",
              "      <td>will</td>\n",
              "    </tr>\n",
              "    <tr>\n",
              "      <th>14</th>\n",
              "      <td>be</td>\n",
              "      <td>O</td>\n",
              "      <td>be</td>\n",
              "      <td>VB</td>\n",
              "      <td>be</td>\n",
              "      <td>be</td>\n",
              "    </tr>\n",
              "    <tr>\n",
              "      <th>15</th>\n",
              "      <td>bought</td>\n",
              "      <td>O</td>\n",
              "      <td>bought</td>\n",
              "      <td>VBN</td>\n",
              "      <td>buy</td>\n",
              "      <td>bought</td>\n",
              "    </tr>\n",
              "    <tr>\n",
              "      <th>16</th>\n",
              "      <td>out</td>\n",
              "      <td>O</td>\n",
              "      <td>out</td>\n",
              "      <td>IN</td>\n",
              "      <td>out</td>\n",
              "      <td>out</td>\n",
              "    </tr>\n",
              "    <tr>\n",
              "      <th>17</th>\n",
              "      <td>very</td>\n",
              "      <td>O</td>\n",
              "      <td>very</td>\n",
              "      <td>RB</td>\n",
              "      <td>very</td>\n",
              "      <td>veri</td>\n",
              "    </tr>\n",
              "    <tr>\n",
              "      <th>18</th>\n",
              "      <td>soon</td>\n",
              "      <td>O</td>\n",
              "      <td>soon</td>\n",
              "      <td>RB</td>\n",
              "      <td>soon</td>\n",
              "      <td>soon</td>\n",
              "    </tr>\n",
              "    <tr>\n",
              "      <th>19</th>\n",
              "      <td>.</td>\n",
              "      <td>O</td>\n",
              "      <td>.</td>\n",
              "      <td>.</td>\n",
              "      <td>.</td>\n",
              "      <td>.</td>\n",
              "    </tr>\n",
              "    <tr>\n",
              "      <th>20</th>\n",
              "      <td>Do</td>\n",
              "      <td>O</td>\n",
              "      <td>Do</td>\n",
              "      <td>VBP</td>\n",
              "      <td>Do</td>\n",
              "      <td>do</td>\n",
              "    </tr>\n",
              "    <tr>\n",
              "      <th>21</th>\n",
              "      <td>you</td>\n",
              "      <td>O</td>\n",
              "      <td>you</td>\n",
              "      <td>PRP</td>\n",
              "      <td>you</td>\n",
              "      <td>you</td>\n",
              "    </tr>\n",
              "    <tr>\n",
              "      <th>22</th>\n",
              "      <td>prefer</td>\n",
              "      <td>O</td>\n",
              "      <td>prefer</td>\n",
              "      <td>VBP</td>\n",
              "      <td>prefer</td>\n",
              "      <td>prefer</td>\n",
              "    </tr>\n",
              "    <tr>\n",
              "      <th>23</th>\n",
              "      <td>sparkling</td>\n",
              "      <td>O</td>\n",
              "      <td>sparkling</td>\n",
              "      <td>VBG</td>\n",
              "      <td>sparkle</td>\n",
              "      <td>sparkl</td>\n",
              "    </tr>\n",
              "    <tr>\n",
              "      <th>24</th>\n",
              "      <td>or</td>\n",
              "      <td>O</td>\n",
              "      <td>or</td>\n",
              "      <td>CC</td>\n",
              "      <td>or</td>\n",
              "      <td>or</td>\n",
              "    </tr>\n",
              "    <tr>\n",
              "      <th>25</th>\n",
              "      <td>regular</td>\n",
              "      <td>O</td>\n",
              "      <td>regular</td>\n",
              "      <td>JJ</td>\n",
              "      <td>regular</td>\n",
              "      <td>regular</td>\n",
              "    </tr>\n",
              "    <tr>\n",
              "      <th>26</th>\n",
              "      <td>minerall</td>\n",
              "      <td>O</td>\n",
              "      <td>mineral</td>\n",
              "      <td>NN</td>\n",
              "      <td>mineral</td>\n",
              "      <td>miner</td>\n",
              "    </tr>\n",
              "    <tr>\n",
              "      <th>27</th>\n",
              "      <td>water</td>\n",
              "      <td>O</td>\n",
              "      <td>water</td>\n",
              "      <td>NN</td>\n",
              "      <td>water</td>\n",
              "      <td>water</td>\n",
              "    </tr>\n",
              "    <tr>\n",
              "      <th>28</th>\n",
              "      <td>?</td>\n",
              "      <td>O</td>\n",
              "      <td>?</td>\n",
              "      <td>.</td>\n",
              "      <td>?</td>\n",
              "      <td>?</td>\n",
              "    </tr>\n",
              "    <tr>\n",
              "      <th>29</th>\n",
              "      <td>Their</td>\n",
              "      <td>O</td>\n",
              "      <td>Their</td>\n",
              "      <td>PRP$</td>\n",
              "      <td>Their</td>\n",
              "      <td>their</td>\n",
              "    </tr>\n",
              "    <tr>\n",
              "      <th>30</th>\n",
              "      <td>vehicle</td>\n",
              "      <td>O</td>\n",
              "      <td>vehicle</td>\n",
              "      <td>NN</td>\n",
              "      <td>vehicle</td>\n",
              "      <td>vehicl</td>\n",
              "    </tr>\n",
              "    <tr>\n",
              "      <th>31</th>\n",
              "      <td>was</td>\n",
              "      <td>O</td>\n",
              "      <td>was</td>\n",
              "      <td>VBD</td>\n",
              "      <td>be</td>\n",
              "      <td>wa</td>\n",
              "    </tr>\n",
              "    <tr>\n",
              "      <th>32</th>\n",
              "      <td>quick</td>\n",
              "      <td>O</td>\n",
              "      <td>quick</td>\n",
              "      <td>JJ</td>\n",
              "      <td>quick</td>\n",
              "      <td>quick</td>\n",
              "    </tr>\n",
              "    <tr>\n",
              "      <th>33</th>\n",
              "      <td>off</td>\n",
              "      <td>O</td>\n",
              "      <td>off</td>\n",
              "      <td>RP</td>\n",
              "      <td>off</td>\n",
              "      <td>off</td>\n",
              "    </tr>\n",
              "    <tr>\n",
              "      <th>34</th>\n",
              "      <td>the</td>\n",
              "      <td>O</td>\n",
              "      <td>the</td>\n",
              "      <td>DT</td>\n",
              "      <td>the</td>\n",
              "      <td>the</td>\n",
              "    </tr>\n",
              "    <tr>\n",
              "      <th>35</th>\n",
              "      <td>mark</td>\n",
              "      <td>O</td>\n",
              "      <td>mark</td>\n",
              "      <td>NN</td>\n",
              "      <td>mark</td>\n",
              "      <td>mark</td>\n",
              "    </tr>\n",
              "    <tr>\n",
              "      <th>36</th>\n",
              "      <td>compared</td>\n",
              "      <td>O</td>\n",
              "      <td>compared</td>\n",
              "      <td>VBN</td>\n",
              "      <td>compare</td>\n",
              "      <td>compar</td>\n",
              "    </tr>\n",
              "    <tr>\n",
              "      <th>37</th>\n",
              "      <td>to</td>\n",
              "      <td>O</td>\n",
              "      <td>to</td>\n",
              "      <td>TO</td>\n",
              "      <td>to</td>\n",
              "      <td>to</td>\n",
              "    </tr>\n",
              "    <tr>\n",
              "      <th>38</th>\n",
              "      <td>most</td>\n",
              "      <td>O</td>\n",
              "      <td>most</td>\n",
              "      <td>JJS</td>\n",
              "      <td>most</td>\n",
              "      <td>most</td>\n",
              "    </tr>\n",
              "    <tr>\n",
              "      <th>39</th>\n",
              "      <td>other</td>\n",
              "      <td>O</td>\n",
              "      <td>other</td>\n",
              "      <td>JJ</td>\n",
              "      <td>other</td>\n",
              "      <td>other</td>\n",
              "    </tr>\n",
              "    <tr>\n",
              "      <th>40</th>\n",
              "      <td>cars</td>\n",
              "      <td>O</td>\n",
              "      <td>cars</td>\n",
              "      <td>NNS</td>\n",
              "      <td>car</td>\n",
              "      <td>car</td>\n",
              "    </tr>\n",
              "    <tr>\n",
              "      <th>41</th>\n",
              "      <td>.</td>\n",
              "      <td>O</td>\n",
              "      <td>.</td>\n",
              "      <td>.</td>\n",
              "      <td>.</td>\n",
              "      <td>.</td>\n",
              "    </tr>\n",
              "  </tbody>\n",
              "</table>\n",
              "</div>"
            ],
            "text/plain": [
              "        token ner_label spell_corrected   POS   lemmas    stems\n",
              "0        Blue     B-ORG            Blue   NNP     Blue     blue\n",
              "1         and         O             and    CC      and      and\n",
              "2       green         O           green    NN    green    green\n",
              "3      should         O          should    MD   should   should\n",
              "4          be         O              be    VB       be       be\n",
              "5        seen         O            seen   VBN      see     seen\n",
              "6           .         O               .     .        .        .\n",
              "7          It         O              It   PRP       It       it\n",
              "8       seems         O           seems   VBZ     seem     seem\n",
              "9        that         O            that    IN     that     that\n",
              "10       Coca     B-ORG            Cece   NNP     Cece     cece\n",
              "11       Cola     I-ORG            Cola   NNP     Cola     cola\n",
              "12     Amitil     I-ORG          Amitie   NNP   Amitie    amiti\n",
              "13       will         O            will    MD     will     will\n",
              "14         be         O              be    VB       be       be\n",
              "15     bought         O          bought   VBN      buy   bought\n",
              "16        out         O             out    IN      out      out\n",
              "17       very         O            very    RB     very     veri\n",
              "18       soon         O            soon    RB     soon     soon\n",
              "19          .         O               .     .        .        .\n",
              "20         Do         O              Do   VBP       Do       do\n",
              "21        you         O             you   PRP      you      you\n",
              "22     prefer         O          prefer   VBP   prefer   prefer\n",
              "23  sparkling         O       sparkling   VBG  sparkle   sparkl\n",
              "24         or         O              or    CC       or       or\n",
              "25    regular         O         regular    JJ  regular  regular\n",
              "26   minerall         O         mineral    NN  mineral    miner\n",
              "27      water         O           water    NN    water    water\n",
              "28          ?         O               ?     .        ?        ?\n",
              "29      Their         O           Their  PRP$    Their    their\n",
              "30    vehicle         O         vehicle    NN  vehicle   vehicl\n",
              "31        was         O             was   VBD       be       wa\n",
              "32      quick         O           quick    JJ    quick    quick\n",
              "33        off         O             off    RP      off      off\n",
              "34        the         O             the    DT      the      the\n",
              "35       mark         O            mark    NN     mark     mark\n",
              "36   compared         O        compared   VBN  compare   compar\n",
              "37         to         O              to    TO       to       to\n",
              "38       most         O            most   JJS     most     most\n",
              "39      other         O           other    JJ    other    other\n",
              "40       cars         O            cars   NNS      car      car\n",
              "41          .         O               .     .        .        ."
            ]
          },
          "metadata": {
            "tags": []
          },
          "execution_count": 18
        }
      ]
    },
    {
      "cell_type": "code",
      "metadata": {
        "colab": {
          "base_uri": "https://localhost:8080/"
        },
        "id": "Eo0WnBokhdaj",
        "outputId": "5829d44f-21d4-4d20-cb58-3ed4e2ea9682"
      },
      "source": [
        "detailed_result = pipeline_dl.fullAnnotate(testDoc)\n",
        "\n",
        "detailed_result[0]['entities']"
      ],
      "execution_count": 19,
      "outputs": [
        {
          "output_type": "execute_result",
          "data": {
            "text/plain": [
              "[Annotation(chunk, 1, 4, Blue, {'entity': 'ORG', 'sentence': '0', 'chunk': '0'}),\n",
              " Annotation(chunk, 46, 61, Coca Cola Amitil, {'entity': 'ORG', 'sentence': '1', 'chunk': '1'})]"
            ]
          },
          "metadata": {
            "tags": []
          },
          "execution_count": 19
        }
      ]
    }
  ]
}